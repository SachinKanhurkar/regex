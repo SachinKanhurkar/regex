{
 "cells": [
  {
   "cell_type": "code",
   "execution_count": 1,
   "metadata": {},
   "outputs": [],
   "source": []
  },
  {
   "cell_type": "code",
   "execution_count": 2,
   "metadata": {},
   "outputs": [
    {
     "name": "stdout",
     "output_type": "stream",
     "text": [
      "The value of s                   :  Welcome to   Regex    Programming   using   Python\n",
      "Regex split using '\\s'           :  ['Welcome', 'to', '', '', 'Regex', '', '', '', 'Programming', '', '', 'using', '', '', 'Python']\n",
      "Regex split using '\\s+'          :  ['Welcome', 'to', 'Regex', 'Programming', 'using', 'Python']\n",
      "Regex split using 's+'           :  ['Welcome to   Regex    Programming   u', 'ing   Python']\n",
      "Regex split using '[a-f]'        :  ['W', 'l', 'om', ' to R', 'g', 'x Progr', 'mming using Python']\n",
      "Regex split using '[a-f][l-n]    :  ['W', 'come to Regex Progr', 'ming using Python']\n"
     ]
    }
   ],
   "source": [
    "# GREP -> Global Regular Expression Print\n",
    "import re\n",
    "#re -> regular expression\n",
    "s = \"Welcome to   Regex    Programming   using   Python\"\n",
    "print(\"The value of s                   : \", s)\n",
    "\n",
    "lstValues = re.split(r\"\\s\", s)\n",
    "print(\"Regex split using '\\s'           : \", lstValues)\n",
    "\n",
    "lstValues = re.split(r\"\\s+\", s)\n",
    "print(\"Regex split using '\\s+'          : \", lstValues)\n",
    "\n",
    "lstValues = re.split(r\"s+\", s)\n",
    "print(\"Regex split using 's+'           : \", lstValues)\n",
    "\n",
    "s = \"Welcome to Regex Programming using Python\"\n",
    "lstValues = re.split(r\"[a-f]\", s)\n",
    "print(\"Regex split using '[a-f]'        : \", lstValues)\n",
    "\n",
    "lstValues = re.split(r\"[a-f][l-n]\", s)\n",
    "# [a-f] -> a b c d e f\n",
    "# [l-m] -> l m n\n",
    "# al am an bl bm bn cl cm cn\n",
    "# dl dm dn el em en fl fm fn\n",
    "# W\n",
    "# come to Regex Progr\n",
    "# ming using Python\n",
    "print(\"Regex split using '[a-f][l-n]    : \", lstValues)"
   ]
  },
  {
   "cell_type": "code",
   "execution_count": 5,
   "metadata": {},
   "outputs": [
    {
     "name": "stdout",
     "output_type": "stream",
     "text": [
      "Numbers using the pattern '\\d+'          :  ['78', '11', '89', '4', '123', '5678', '560023', '67893']\n",
      "Numbers using the pattern '\\d{6}'        :  ['560023']\n",
      "Numbers using the pattern '\\d{6}'        :  ['78', '11', '89', '12', '56', '78', '56', '00', '23', '67', '89']\n",
      "Numbers using the pattern '\\s\\d{2}\\s'    :  [' 11 ', ' 89 ']\n",
      "Numbers using the pattern '\\d{1,6}'      :  ['78', '11', '89', '4', '123', '5678', '560023', '67893']\n"
     ]
    }
   ],
   "source": [
    "import re\n",
    "address = \"78 Hi 11    89 Main, 4th Cross, 123, Road, Marathalli, 5678 Bangalore, 560023 67893\"\n",
    "\n",
    "lstValues = re.findall(r\"\\d+\", address)\n",
    "print(\"Numbers using the pattern '\\d+'          : \", lstValues)\n",
    "\n",
    "lstValues = re.findall(r\"\\d{6}\", address)\n",
    "print(\"Numbers using the pattern '\\d{6}'        : \", lstValues)\n",
    "\n",
    "lstValues = re.findall(r\"\\d{2}\", address)\n",
    "print(\"Numbers using the pattern '\\d{6}'        : \", lstValues)\n",
    "\n",
    "lstValues = re.findall(r\"\\s\\d{2}\\s\", address)\n",
    "print(\"Numbers using the pattern '\\s\\d{2}\\s'    : \", lstValues)\n",
    "\n",
    "lstValues = re.findall(r\"\\d{1,6}\", address)\n",
    "print(\"Numbers using the pattern '\\d{1,6}'      : \", lstValues)"
   ]
  },
  {
   "cell_type": "code",
   "execution_count": 28,
   "metadata": {},
   "outputs": [
    {
     "name": "stdout",
     "output_type": "stream",
     "text": [
      "IP Addresses     :  ['172.45.78.109', '127.0.0.1', '10.67.89.101', '11.67.98.102', '10.68.98.102']\n",
      "IP Addresses     :  ['10.67.89.101', '10.68.98.102']\n"
     ]
    }
   ],
   "source": [
    "import re\n",
    "\n",
    "s = '''\n",
    "<html>\n",
    "<head>\n",
    "<title>Current IP Address Allocations\n",
    "</title>\n",
    "</head>\n",
    "<body>\n",
    "IP Address are 172.45.78.109\n",
    "LoopBack Address: 127.0.0.1\n",
    "Computer 1: 10.67.89.101\n",
    "Computer 2: 11.67.98.102\n",
    "Computer 3: 10.68.98.102\n",
    "</body>\n",
    "</html>\n",
    "'''\n",
    "\n",
    "# IP Address : 4 parts (octets)\n",
    "lstValues = re.findall(r\"\\d{1,3}\\.\\d{1,3}\\.\\d{1,3}\\.\\d{1,3}\", s)\n",
    "print(\"IP Addresses     : \", lstValues)\n",
    "\n",
    "lstValues = re.findall(r\"10\\.\\d{1,3}\\.\\d{1,3}\\.\\d{1,3}\", s)\n",
    "print(\"IP Addresses     : \", lstValues)"
   ]
  },
  {
   "cell_type": "code",
   "execution_count": 29,
   "metadata": {},
   "outputs": [
    {
     "name": "stdout",
     "output_type": "stream",
     "text": [
      "IP Addresses     :  ['10.67.89.101', '11.67.98.102', '10.68.98.102']\n"
     ]
    }
   ],
   "source": [
    "\n",
    "lstValues = re.findall(r\"1[0-1]\\.\\d{1,3}\\.\\d{1,3}\\.\\d{1,3}\", s)\n",
    "print(\"IP Addresses     : \", lstValues)"
   ]
  },
  {
   "cell_type": "code",
   "execution_count": 30,
   "metadata": {},
   "outputs": [
    {
     "name": "stdout",
     "output_type": "stream",
     "text": [
      "['3775 123456 78910']\n"
     ]
    }
   ],
   "source": [
    "import re\n",
    "empDetails = \"Hi I have a credit card with number 3775 123456 78910 and \" \\\n",
    "             \"other card is\" \\\n",
    "             \" 3545 456789 12345\"\n",
    "\n",
    "#http://www.getcreditcardnumbers.com\n",
    "\n",
    "# AMEX Card\n",
    "# Always Start with 3\n",
    "# Second Digit is either 4 or 7\n",
    "# <4 Digit> <6 Digit> <5 Digit>\n",
    "\n",
    "lstCard = re.findall(r\"3[4|7]\\d{2}\\s\\d{6}\\s\\d{5}\", empDetails)\n",
    "print(lstCard)"
   ]
  },
  {
   "cell_type": "code",
   "execution_count": 31,
   "metadata": {},
   "outputs": [],
   "source": [
    "import re\n",
    "sampleString = '''\n",
    "Rohit made 122 runs, Virat made 96 runs, and\n",
    "Dhawan made 46 runs and we won the match.\n",
    "'''\n",
    "\n",
    "# {\"Rohit\": 122, \"Virat\": 96, \"Dhawan\": 46}"
   ]
  },
  {
   "cell_type": "code",
   "execution_count": 50,
   "metadata": {},
   "outputs": [
    {
     "name": "stdout",
     "output_type": "stream",
     "text": [
      "['122', '96', '46']\n"
     ]
    }
   ],
   "source": [
    "runs= re.findall(r\"\\d+\", sampleString)\n",
    "print(runs)"
   ]
  },
  {
   "cell_type": "code",
   "execution_count": 58,
   "metadata": {},
   "outputs": [
    {
     "data": {
      "text/plain": [
       "str"
      ]
     },
     "execution_count": 58,
     "metadata": {},
     "output_type": "execute_result"
    }
   ],
   "source": [
    "type(runs[1])"
   ]
  },
  {
   "cell_type": "code",
   "execution_count": 51,
   "metadata": {},
   "outputs": [
    {
     "name": "stdout",
     "output_type": "stream",
     "text": [
      "['Rohit', 'Virat', 'Dhawan']\n"
     ]
    }
   ],
   "source": [
    "names= re.findall(r\"Rohit|Virat|Dhawan\", sampleString)\n",
    "print(names)"
   ]
  },
  {
   "cell_type": "code",
   "execution_count": 49,
   "metadata": {},
   "outputs": [
    {
     "name": "stdout",
     "output_type": "stream",
     "text": [
      "['Rohit', 'Virat', 'Dhawan']\n"
     ]
    }
   ],
   "source": [
    "names= re.findall(r\"[A-Z][a-z]+\", sampleString)\n",
    "print(names)"
   ]
  },
  {
   "cell_type": "code",
   "execution_count": 52,
   "metadata": {},
   "outputs": [
    {
     "name": "stdout",
     "output_type": "stream",
     "text": [
      "{'Rohit': '122', 'Virat': '96', 'Dhawan': '46'}\n"
     ]
    }
   ],
   "source": [
    "\n",
    "# Approach 1\n",
    "# result = {}\n",
    "# for item in range(3):\n",
    "#     result[lstNames[item]] = lstScores[item]\n",
    "#\n",
    "# print(result)\n",
    "\n",
    "# Approach 2 : Zip\n",
    "print(dict(zip(names, runs)))"
   ]
  },
  {
   "cell_type": "code",
   "execution_count": 55,
   "metadata": {},
   "outputs": [
    {
     "name": "stdout",
     "output_type": "stream",
     "text": [
      "{'Rohit': '122', 'Virat': '96', 'Dhawan': '46'}\n"
     ]
    }
   ],
   "source": [
    "#Approach 1\n",
    "result = {}\n",
    "for item in range(3):\n",
    "    result[names[item]] =runs[item]\n",
    "\n",
    "print(result)"
   ]
  },
  {
   "cell_type": "code",
   "execution_count": 57,
   "metadata": {},
   "outputs": [
    {
     "data": {
      "text/plain": [
       "'122'"
      ]
     },
     "execution_count": 57,
     "metadata": {},
     "output_type": "execute_result"
    }
   ],
   "source": [
    "result['Rohit']"
   ]
  },
  {
   "cell_type": "code",
   "execution_count": 59,
   "metadata": {},
   "outputs": [
    {
     "name": "stdout",
     "output_type": "stream",
     "text": [
      "Find all matches for format Month day\n",
      "['June 24', 'August 9', 'Dec 12']\n",
      "['June', 'August', 'Dec']\n",
      "['24', '9', '12']\n",
      "[('June', '24'), ('August', '9'), ('Dec', '12')]\n"
     ]
    }
   ],
   "source": [
    "import re\n",
    "\n",
    "print(\"Find all matches for format Month day\")\n",
    "matches = re.findall(r\"[A-Z][a-z]+\\s\\d{1,2}\", \"These are the match dates June 24, August 9, Dec 12\")\n",
    "print(matches)\n",
    "\n",
    "matches = re.findall(r\"([A-Z][a-z]+)\\s\\d{1,2}\", \"These are the match dates June 24, August 9, Dec 12, and Nov\")\n",
    "print(matches)\n",
    "\n",
    "matches = re.findall(r\"[A-Z][a-z]+\\s(\\d{1,2})\", \"These are the match dates June 24, August 9, Dec 12\")\n",
    "print(matches)\n",
    "\n",
    "matches = re.findall(r\"([A-Z][a-z]+)\\s(\\d{1,2})\", \"These are the match dates June 24, August 9, Dec 12\")\n",
    "print(matches)"
   ]
  },
  {
   "cell_type": "code",
   "execution_count": 66,
   "metadata": {},
   "outputs": [
    {
     "name": "stdout",
     "output_type": "stream",
     "text": [
      "[' alice@google.com abcde helloab@abc.com ---@gmail.com 23@gmail.com my23@gmail.com']\n"
     ]
    }
   ],
   "source": [
    "import re\n",
    "\n",
    "s = \"purple alice@google.com abcde helloab@abc.com ---@gmail.com 23@gmail.com my23@gmail.com\"\n",
    "\n",
    "emails = re.findall(r\"\\s.+@[a-z]+\\.com\", s)\n",
    "print(emails)"
   ]
  },
  {
   "cell_type": "code",
   "execution_count": 67,
   "metadata": {},
   "outputs": [
    {
     "name": "stdout",
     "output_type": "stream",
     "text": [
      "['alice@google.com', 'helloab@abc.com', '23@gmail.com', 'my23@gmail.com', '_@gmail.com']\n",
      "['alice@google.com', 'helloab@abc.com', 'my23@gmail.com']\n"
     ]
    }
   ],
   "source": [
    "import re\n",
    "\n",
    "s = \"purple alice@google.com abcde helloab@abc.com ---@gmail.com 23@gmail.com my23@gmail.com _@gmail.com\"\n",
    "\n",
    "emails = re.findall(r\"\\w+@\\w+\\.\\w+\", s)\n",
    "print(emails)\n",
    "\n",
    "emails = re.findall(r\"[A-Za-z]\\w+@\\w+\\.\\w+\", s)\n",
    "print(emails)\n",
    "\n",
    "# \\w => A-Za-z0-9_"
   ]
  },
  {
   "cell_type": "code",
   "execution_count": null,
   "metadata": {},
   "outputs": [],
   "source": []
  }
 ],
 "metadata": {
  "kernelspec": {
   "display_name": "Python 3",
   "language": "python",
   "name": "python3"
  },
  "language_info": {
   "codemirror_mode": {
    "name": "ipython",
    "version": 3
   },
   "file_extension": ".py",
   "mimetype": "text/x-python",
   "name": "python",
   "nbconvert_exporter": "python",
   "pygments_lexer": "ipython3",
   "version": "3.8.5"
  }
 },
 "nbformat": 4,
 "nbformat_minor": 4
}
